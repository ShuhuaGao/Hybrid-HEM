{
 "cells": [
  {
   "cell_type": "markdown",
   "metadata": {},
   "source": [
    "# Generate IL expert data for behavior cloning\n",
    "Given a number of historical scenarios containing real-time price and solar PV generation data, run MILP on each scenario to get the optimal solutions of load management. Then, extract the MILP expert's state-action dataset."
   ]
  },
  {
   "cell_type": "code",
   "execution_count": null,
   "metadata": {},
   "outputs": [],
   "source": [
    "using DataFrames, CSV\n",
    "using BSON: @save, @load\n",
    "using BSON, NPZ\n",
    "using TOML\n",
    "using JuMP\n",
    "using Revise, HEMS\n",
    "\n",
    "ENV[\"COLUMNS\"] = 2000;"
   ]
  },
  {
   "cell_type": "markdown",
   "metadata": {},
   "source": [
    "## Read raw scenarios data and home configuration"
   ]
  },
  {
   "cell_type": "code",
   "execution_count": null,
   "metadata": {},
   "outputs": [],
   "source": [
    "root_dir = \"../../\""
   ]
  },
  {
   "cell_type": "code",
   "execution_count": null,
   "metadata": {},
   "outputs": [],
   "source": [
    "# home configuration\n",
    "home_dir = joinpath(root_dir, \"data/home/\")\n",
    "h = read_home_config(joinpath(home_dir, \"homeB.toml\"))\n",
    ";"
   ]
  },
  {
   "cell_type": "code",
   "execution_count": null,
   "metadata": {},
   "outputs": [],
   "source": [
    "scenario_dir = joinpath(root_dir, \"data/learning/scenarios/\")"
   ]
  },
  {
   "cell_type": "code",
   "execution_count": null,
   "metadata": {},
   "outputs": [],
   "source": [
    "test_ss = BSON.load(joinpath(scenario_dir, \"2021.bson\"))[:ss] .|> DataFrame;"
   ]
  },
  {
   "cell_type": "code",
   "execution_count": null,
   "metadata": {},
   "outputs": [],
   "source": [
    "# three years' data: 2019 and 2020 for train and 2021 for test \n",
    "train_ss = [BSON.load(joinpath(scenario_dir, \"2019.bson\"))[:ss] .|> DataFrame;\n",
    "    BSON.load(joinpath(scenario_dir, \"2020.bson\"))[:ss] .|> DataFrame]\n",
    "test_ss = BSON.load(joinpath(scenario_dir, \"2021.bson\"))[:ss] .|> DataFrame;"
   ]
  },
  {
   "cell_type": "code",
   "execution_count": null,
   "metadata": {},
   "outputs": [],
   "source": [
    "length(train_ss)"
   ]
  },
  {
   "cell_type": "markdown",
   "metadata": {},
   "source": [
    "## Optimize each scenario with the MILP expert"
   ]
  },
  {
   "cell_type": "code",
   "execution_count": null,
   "metadata": {},
   "outputs": [],
   "source": [
    "IL_data_dir = joinpath(root_dir, \"data/learning/IL_homeB\")"
   ]
  },
  {
   "cell_type": "code",
   "execution_count": null,
   "metadata": {},
   "outputs": [],
   "source": [
    "# run_expert!(test_ss[1:3], h; out_bson = joinpath(IL_data_dir, \"test_ss_del.bson\"), report_progress=true)"
   ]
  },
  {
   "cell_type": "code",
   "execution_count": null,
   "metadata": {},
   "outputs": [],
   "source": [
    "run_expert!(test_ss, h; out_bson = joinpath(IL_data_dir, \"test_ss.bson\"), report_progress=true)\n",
    ";"
   ]
  },
  {
   "cell_type": "code",
   "execution_count": null,
   "metadata": {},
   "outputs": [],
   "source": [
    "# also measure the training time\n",
    "@time begin\n",
    "    run_expert!(train_ss, h; out_bson = joinpath(IL_data_dir, \"train_ss.bson\"), report_progress=true)\n",
    "end\n",
    ";"
   ]
  },
  {
   "cell_type": "code",
   "execution_count": null,
   "metadata": {},
   "outputs": [],
   "source": [
    "# check the first result\n",
    "first(first(train_ss), 3)"
   ]
  },
  {
   "cell_type": "markdown",
   "metadata": {},
   "source": [
    "## Build state-action dataset as expert demonstrations\n",
    "- Extract X-y pairs from the optimized scenarios.\\\n",
    "- Write into the specific `out_bson` file."
   ]
  },
  {
   "cell_type": "code",
   "execution_count": null,
   "metadata": {},
   "outputs": [],
   "source": [
    "test_xy = build_expert_dataset(test_ss, h; out_bson = joinpath(IL_data_dir, \"test_xy.bson\"), H=1)\n",
    "@time begin\n",
    "    train_xy = build_expert_dataset(train_ss, h; out_bson = joinpath(IL_data_dir, \"train_xy.bson\"), H=1)\n",
    "end\n",
    ";"
   ]
  },
  {
   "cell_type": "code",
   "execution_count": null,
   "metadata": {},
   "outputs": [],
   "source": [
    "# full ones\n",
    "test_xy = build_expert_dataset(test_ss, h; out_bson = joinpath(IL_data_dir, \"test_xy_full.bson\"), full=true)\n",
    "@time begin\n",
    "    train_xy = build_expert_dataset(train_ss, h; out_bson = joinpath(IL_data_dir, \"train_xy_full.bson\"), full=true)\n",
    "end\n",
    ";"
   ]
  }
 ],
 "metadata": {
  "interpreter": {
   "hash": "d1bae9c990c0287dee407e045ea98f03aa4ab04378e0a23954529b8c08fc5679"
  },
  "kernelspec": {
   "display_name": "Julia 1.7.0",
   "language": "julia",
   "name": "julia-1.7"
  },
  "language_info": {
   "file_extension": ".jl",
   "mimetype": "application/julia",
   "name": "julia",
   "version": "1.7.0"
  },
  "orig_nbformat": 4
 },
 "nbformat": 4,
 "nbformat_minor": 2
}
