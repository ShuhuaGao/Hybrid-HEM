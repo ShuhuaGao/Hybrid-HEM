{
 "cells": [
  {
   "cell_type": "markdown",
   "metadata": {},
   "source": [
    "# Behavior cloning for shiftable loads"
   ]
  },
  {
   "cell_type": "code",
   "execution_count": null,
   "metadata": {},
   "outputs": [],
   "source": [
    "using DataFrames, CSV\n",
    "using BSON: @save, @load\n",
    "using BSON, NPZ\n",
    "using TOML\n",
    "using Flux, MLJ\n",
    "using StatsBase\n",
    "using Random\n",
    "using Plots, Plots.Measures\n",
    "using Revise, HEMS\n",
    "\n",
    "ENV[\"COLUMNS\"] = 2000\n",
    "Random.seed!(1)"
   ]
  },
  {
   "cell_type": "code",
   "execution_count": null,
   "metadata": {},
   "outputs": [],
   "source": [
    "## Plots default\n",
    "default(; labelfontsize = 13, tickfontsize = 11,\n",
    "    framestyle = :box,\n",
    "    margin = 0.5mm,\n",
    "    legendfontsize=11,\n",
    "    xticks=:auto\n",
    ")"
   ]
  },
  {
   "cell_type": "markdown",
   "metadata": {},
   "source": [
    "## Read expert dataset"
   ]
  },
  {
   "cell_type": "code",
   "execution_count": null,
   "metadata": {},
   "outputs": [],
   "source": [
    "root_dir = \"../../\"\n",
    "\n",
    "home_dir = joinpath(root_dir, \"data/home/\")\n",
    "IL_data_dir = joinpath(root_dir, \"data/learning/IL_homeB\")\n",
    "IL_model_dir = joinpath(root_dir, \"model/IL_homeB\")\n",
    "img_dir = joinpath(root_dir, \"img\")\n",
    ";"
   ]
  },
  {
   "cell_type": "code",
   "execution_count": null,
   "metadata": {},
   "outputs": [],
   "source": [
    "h = read_home_config(joinpath(home_dir, \"homeB.toml\"));"
   ]
  },
  {
   "cell_type": "code",
   "execution_count": null,
   "metadata": {},
   "outputs": [],
   "source": [
    "# `d` and `dt` are training set and test set respectively\n",
    "@load joinpath(IL_data_dir, \"train_xy.bson\") d\n",
    "\n",
    "dt = BSON.load(joinpath(IL_data_dir, \"test_xy.bson\"))[:d];\n",
    "keys(dt)"
   ]
  },
  {
   "cell_type": "markdown",
   "metadata": {},
   "source": [
    "## Train agents for shiftable loads\n",
    "- Train a DNN-based agent \n",
    "- Report performance \n",
    "- Store the obtained agent\n",
    "\n",
    "We empirically found that the same set of hyperparameters worked well for all shiftable loads in this study."
   ]
  },
  {
   "cell_type": "code",
   "execution_count": null,
   "metadata": {},
   "outputs": [],
   "source": [
    "function report_classification_perf(agent, X, y)\n",
    "\n",
    "    ŷ = vec(agent(X) .>= 0.5) \n",
    "    acc = MLJ.accuracy(ŷ, y)\n",
    "    # cm = MLJ.confusion_matrix(coerce(ŷ, OrderedFactor), coerce(y, OrderedFactor))\n",
    "    cm = MLJ.confusion_matrix(categorical(ŷ; ordered = true), categorical(y; ordered = true))\n",
    "    f1 = MLJ.f1score(ŷ, y)\n",
    "    @show cm acc f1\n",
    "    nothing\n",
    "end"
   ]
  },
  {
   "cell_type": "code",
   "execution_count": null,
   "metadata": {},
   "outputs": [],
   "source": [
    "agents = Agent[]\n",
    "shiftable_loads = [l[\"id\"] for l in Iterators.Flatten((h[\"SU\"], h[\"SI\"]))]\n",
    "loss_histories = []\n",
    "shiftable_loads"
   ]
  },
  {
   "cell_type": "code",
   "execution_count": null,
   "metadata": {},
   "outputs": [],
   "source": [
    "@time begin\n",
    "for id in shiftable_loads\n",
    "    X, y = d[id]\n",
    "    Xt, yt = dt[id]\n",
    "    \n",
    "    agent, loss_hist = train_SU_agent(X, y; device = Flux.cpu, epochs = 500, η = 0.2e-2,\n",
    "        report_freq = 0, w1 = 2.5)\n",
    "    push!(agents, agent)\n",
    "    push!(loss_histories, loss_hist)\n",
    "end\n",
    "end"
   ]
  },
  {
   "cell_type": "code",
   "execution_count": null,
   "metadata": {},
   "outputs": [],
   "source": [
    "wi = 8  # which shiftable load \n",
    "loss_hist = loss_histories[wi]\n",
    "id = shiftable_loads[wi]\n",
    "ne = size(loss_hist)[1]\n",
    "@show id ne\n",
    "plot(; size = (610, 220), xlabel = \"Epoch\", ylabel = \"Loss\")\n",
    "plot!(0:ne-1, loss_hist; label=[\"train\" \"validation\"], bottom_margin=3.5mm, top_margin=-1mm, left_margin=1.5mm, right_margin=1.5mm)\n",
    "savefig(joinpath(img_dir, \"train_$(id).pdf\"))\n",
    "current()"
   ]
  },
  {
   "cell_type": "code",
   "execution_count": null,
   "metadata": {},
   "outputs": [],
   "source": [
    "# check performance statistics \n",
    "for (id, agent) in zip(shiftable_loads, agents)\n",
    "    @show id\n",
    "    X, y = d[id]\n",
    "    Xt, yt = dt[id]\n",
    "    println(\"- Training performance\")\n",
    "    report_classification_perf(agent, X, y)\n",
    "    println(\"- Test performance\")\n",
    "    report_classification_perf(agent, Xt, yt)\n",
    "end"
   ]
  },
  {
   "cell_type": "code",
   "execution_count": null,
   "metadata": {},
   "outputs": [],
   "source": [
    "@save joinpath(IL_model_dir, \"agents.bson\") agents=Dict(id => agent for (id, agent) in zip(shiftable_loads, agents))"
   ]
  },
  {
   "cell_type": "code",
   "execution_count": null,
   "metadata": {},
   "outputs": [],
   "source": []
  }
 ],
 "metadata": {
  "kernelspec": {
   "display_name": "Julia 1.7.0",
   "language": "julia",
   "name": "julia-1.7"
  },
  "language_info": {
   "file_extension": ".jl",
   "mimetype": "application/julia",
   "name": "julia",
   "version": "1.7.0"
  },
  "orig_nbformat": 4
 },
 "nbformat": 4,
 "nbformat_minor": 2
}
