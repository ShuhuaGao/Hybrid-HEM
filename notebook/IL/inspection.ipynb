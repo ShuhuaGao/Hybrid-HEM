{
 "cells": [
  {
   "cell_type": "markdown",
   "metadata": {},
   "source": [
    "# Some specific inspections\n",
    "- The training scenarios\n",
    "- Inspection of ideal MILP\n",
    "- Inspection of our hybrid method"
   ]
  },
  {
   "cell_type": "code",
   "execution_count": null,
   "metadata": {},
   "outputs": [],
   "source": [
    "using DataFrames, CSV, BSON\n",
    "using BSON: @save, @load\n",
    "using Plots, Plots.Measures\n",
    "using LaTeXStrings\n",
    "using HEMS\n",
    "using Printf\n",
    "using Flux, StatsBase\n",
    "using Revise, HEMS\n",
    "\n",
    "ENV[\"COLUMNS\"] = 2000;"
   ]
  },
  {
   "cell_type": "code",
   "execution_count": null,
   "metadata": {},
   "outputs": [],
   "source": [
    "root_dir = \"../../\"\n",
    "img_dir = joinpath(root_dir, \"img\")\n",
    "scenario_dir = joinpath(root_dir, \"data/learning/scenarios/\")\n",
    "IL_model_dir = joinpath(root_dir, \"model/IL\")"
   ]
  },
  {
   "cell_type": "code",
   "execution_count": null,
   "metadata": {},
   "outputs": [],
   "source": [
    "# home configuration\n",
    "home_dir = joinpath(root_dir, \"data/home/\")\n",
    "h = read_home_config(joinpath(home_dir, \"home.toml\"))\n",
    ";"
   ]
  },
  {
   "cell_type": "code",
   "execution_count": null,
   "metadata": {},
   "outputs": [],
   "source": [
    "## Plots default\n",
    "default(; labelfontsize = 13, tickfontsize = 11,\n",
    "    framestyle = :box,\n",
    "    margin = 0.5mm,\n",
    "    xticks = 0:2:24,\n",
    "    legendfontsize=11\n",
    ")"
   ]
  },
  {
   "cell_type": "markdown",
   "metadata": {},
   "source": [
    "## Plot training scenarios"
   ]
  },
  {
   "cell_type": "code",
   "execution_count": null,
   "metadata": {},
   "outputs": [],
   "source": [
    "ss_2019 = BSON.load(joinpath(scenario_dir, \"2019.bson\"))[:ss] .|> DataFrame\n",
    "ss_2020 = BSON.load(joinpath(scenario_dir, \"2020.bson\"))[:ss] .|> DataFrame\n",
    "ss_2021 = BSON.load(joinpath(scenario_dir, \"2021.bson\"))[:ss] .|> DataFrame\n",
    "first(ss_2019)"
   ]
  },
  {
   "cell_type": "code",
   "execution_count": null,
   "metadata": {},
   "outputs": [],
   "source": [
    "n = 90\n",
    "p1 = plot(1:24, hcat((ss_2019[i].ρ for i = 1:n)...); size = (430, 220), color = :seagreen, linealpha = 0.7,\n",
    "    xlabel = L\"$t$\", ylabel = \"Price (\\$\\$/kWh)\",\n",
    "    right_margin = -1mm, bottom_margin = 1.5mm, legend=false)\n",
    "savefig(joinpath(img_dir, \"price.pdf\"))\n",
    "current()"
   ]
  },
  {
   "cell_type": "code",
   "execution_count": null,
   "metadata": {},
   "outputs": [],
   "source": [
    "p2 = plot(1:24, hcat((ss_2019[i].PPV for i = 1:n)...); size = (430, 220), color = :seagreen, linealpha = 0.7,\n",
    "    xlabel = L\"$t$\", ylabel = \"PV power (kW)\",\n",
    "    right_margin = -1mm, bottom_margin = 1.5mm, legend=false)\n",
    "savefig(joinpath(img_dir, \"PV.pdf\"))\n",
    "current()"
   ]
  },
  {
   "cell_type": "markdown",
   "metadata": {},
   "source": [
    "## One scenario inspection of ideal MILP"
   ]
  },
  {
   "cell_type": "code",
   "execution_count": null,
   "metadata": {},
   "outputs": [],
   "source": [
    "s = ss_2020[213] |> copy;    # 213 -> Aug. 1st"
   ]
  },
  {
   "cell_type": "code",
   "execution_count": null,
   "metadata": {},
   "outputs": [],
   "source": [
    "@time model = run_MILP!(s, h)\n",
    "s;"
   ]
  },
  {
   "cell_type": "code",
   "execution_count": null,
   "metadata": {},
   "outputs": [],
   "source": [
    "left_margin = 1mm\n",
    "fs = (430, 200)\n",
    "fst = (430, 220)\n",
    "xticks = 0:2:24\n",
    "markershape = :circle"
   ]
  },
  {
   "cell_type": "code",
   "execution_count": null,
   "metadata": {},
   "outputs": [],
   "source": [
    "plot(1:24, s.ρ; size = fs, ylabel = \"Price (\\$\\$/kWh)\", xticks, markershape,\n",
    "    left_margin, right_margin = -1mm, top_margin = -1mm, label = \"Price\", legend = :topleft,\n",
    "    yticks=0.1:0.02:0.2)\n",
    "annotate!(23, 0.2, Plots.text(\"(a)\", 13))\n",
    "savefig(joinpath(img_dir, \"price_MILP_small.pdf\"))\n",
    "current()"
   ]
  },
  {
   "cell_type": "code",
   "execution_count": null,
   "metadata": {},
   "outputs": [],
   "source": [
    "plot(1:24, s.PPV; size = fs, ylabel = \"Power (kW)\", xticks, markershape, left_margin,\n",
    "     right_margin = -1mm, top_margin = -1mm, label = \"Solar PV\", legend = :topleft,\n",
    "     yticks = (0:5, [@sprintf(\"%2d\", y) for y in 0:5]))\n",
    "annotate!(23, 5, text(\"(b)\", 13))\n",
    "savefig(joinpath(img_dir, \"PV_MILP_small.pdf\"))\n",
    "current()"
   ]
  },
  {
   "cell_type": "code",
   "execution_count": null,
   "metadata": {},
   "outputs": [],
   "source": [
    "# adjustable\n",
    "ads = [l[\"id\"] for l in h[\"AD\"]]\n",
    "plot(; size = fst, left_margin, right_margin = -1mm, ylabel = \"Power (kW)\", top_margin = -1mm,\n",
    "    bottom_margin = 1.8mm, yticks = (0.9:0.3:2.1, [@sprintf(\"%4.1f\", y) for y in 0.9:0.3:2.1]),\n",
    "    legend = (0.13, 0.6), xlabel = L\"t\")\n",
    "for id in ads\n",
    "    plot!(1:24, s[!, \"P_$id\"]; markershape = :circle, label = id)\n",
    "end\n",
    "annotate!(23, 1.8, text(\"(c)\", 13))\n",
    "savefig(joinpath(img_dir, \"AD_MILP_small.pdf\"))\n",
    "current()"
   ]
  },
  {
   "cell_type": "code",
   "execution_count": null,
   "metadata": {},
   "outputs": [],
   "source": [
    "# shiftable\n",
    "shifts = Iterators.Flatten((h[\"SU\"], h[\"SI\"]))\n",
    "plot(; size = fst, left_margin, right_margin = -1mm, ylabel = \"Power (kW)\", \n",
    "    legend = :topleft, yticks=0:2:10, xlabel=L\"t\", bottom_margin = 1.8mm, top_margin=-1mm)\n",
    "for (i, l) in enumerate(shifts)\n",
    "    id = l[\"id\"]\n",
    "    plot!(1:24, s[!, \"P_$id\"]; markershape = :circle, label = id,\n",
    "        color = i)\n",
    "    vline!([l[\"ts\"], l[\"tf\"]]; color = i, linestyle = :dash, label = false)\n",
    "end\n",
    "annotate!(23, 7, text(\"(d)\", 13))\n",
    "savefig(joinpath(img_dir, \"S_MILP_small.pdf\"))\n",
    "current()"
   ]
  },
  {
   "cell_type": "code",
   "execution_count": null,
   "metadata": {},
   "outputs": [],
   "source": [
    "sum(s.C), sum(s.Cele), compute_cost!(copy(s), h)"
   ]
  },
  {
   "cell_type": "markdown",
   "metadata": {},
   "source": [
    "## Inspection of hybrid method"
   ]
  },
  {
   "cell_type": "code",
   "execution_count": null,
   "metadata": {},
   "outputs": [],
   "source": [
    "# a scenario in the test set\n",
    "s = ss_2021[161];    # June 10"
   ]
  },
  {
   "cell_type": "markdown",
   "metadata": {},
   "source": [
    "### Get results with two methods"
   ]
  },
  {
   "cell_type": "code",
   "execution_count": null,
   "metadata": {},
   "outputs": [],
   "source": [
    "# ideal MILP \n",
    "sm = copy(s) \n",
    "run_MILP!(sm, h);"
   ]
  },
  {
   "cell_type": "code",
   "execution_count": null,
   "metadata": {},
   "outputs": [],
   "source": [
    "# hybrid\n",
    "@load joinpath(IL_model_dir, \"agents.bson\") agents\n",
    "sh = manage_loads(s, h, agents);"
   ]
  },
  {
   "cell_type": "markdown",
   "metadata": {},
   "source": [
    "### Plot and analyze"
   ]
  },
  {
   "cell_type": "code",
   "execution_count": null,
   "metadata": {},
   "outputs": [],
   "source": [
    "fs = (430, 200)\n",
    "fst = (430, 220)\n",
    "xticks = 0:2:24\n",
    "markershape = :circle"
   ]
  },
  {
   "cell_type": "code",
   "execution_count": null,
   "metadata": {},
   "outputs": [],
   "source": [
    "# price and PV \n",
    "plot(1:24, s.ρ; size = fs, ylabel = \"Price (\\$\\$/kWh)\", xticks, markershape,\n",
    "    right_margin = -1mm, top_margin = -1mm, label = \"Price\", legend = :topleft)\n",
    "annotate!(23, 0.18, Plots.text(\"(a)\", 13))\n",
    "savefig(joinpath(img_dir, \"price_h.pdf\"))\n",
    "current()"
   ]
  },
  {
   "cell_type": "code",
   "execution_count": null,
   "metadata": {},
   "outputs": [],
   "source": [
    "# price and PV \n",
    "plot(1:24, s.PPV; size = fs, ylabel = \"Power (kW)\", xticks, markershape,\n",
    "    right_margin = -1mm, top_margin = -1mm, label = \"Solar PV\", legend = :topleft,\n",
    "    yticks = (0:6, [@sprintf(\"%3d\", y) for y in 0:6]))\n",
    "annotate!(23, 6, text(\"(b)\", 13))\n",
    "savefig(joinpath(img_dir, \"PV_h.pdf\"))\n",
    "current()"
   ]
  },
  {
   "cell_type": "code",
   "execution_count": null,
   "metadata": {},
   "outputs": [],
   "source": [
    "# shiftable loads \n",
    "function plot_shiftable(s, file_name; yticks=:auto, ann=\"\")\n",
    "    shifts = Iterators.Flatten((h[\"SU\"], h[\"SI\"]))\n",
    "    plot(; size = fs, ylabel = \"Power (kW)\",\n",
    "        legend = :topleft, \n",
    "        yticks, \n",
    "        xticks,\n",
    "        right_margin = -1mm, top_margin = -1mm)\n",
    "    for (i, l) in enumerate(shifts)\n",
    "        id = l[\"id\"]\n",
    "        plot!(1:24, s[!, \"P_$id\"]; markershape = :circle, label = id,\n",
    "            color = i)\n",
    "        vline!([l[\"ts\"], l[\"tf\"]]; color = i, linestyle = :dash, label = false)\n",
    "    end\n",
    "    annotate!(23, 9, text(ann, 13))\n",
    "    savefig(joinpath(img_dir, file_name))\n",
    "    current()\n",
    "end"
   ]
  },
  {
   "cell_type": "code",
   "execution_count": null,
   "metadata": {},
   "outputs": [],
   "source": [
    "plot_shiftable(sm, \"S_h_MILP.pdf\"; ann=\"(c)\")"
   ]
  },
  {
   "cell_type": "code",
   "execution_count": null,
   "metadata": {},
   "outputs": [],
   "source": [
    "plot_shiftable(sh, \"S_h.pdf\"; yticks=(0:2:10, [@sprintf(\"%3.f\", y) for y in 0:2:10]), ann=\"(d)\")"
   ]
  },
  {
   "cell_type": "code",
   "execution_count": null,
   "metadata": {},
   "outputs": [],
   "source": [
    "# adjustable\n",
    "function plot_adjustable(s, file_name; yticks = :auto, ann = \"\")\n",
    "    ads = [l[\"id\"] for l in h[\"AD\"]]\n",
    "    plot(; size = fs, ylabel = \"Power (kW)\",\n",
    "        legend = (0.12, 0.6), right_margin = -1mm, top_margin = -1mm, xticks, yticks)\n",
    "    for id in ads\n",
    "        plot!(1:24, s[!, \"P_$id\"]; markershape = :circle, label = id)\n",
    "    end\n",
    "    annotate!(23, 1.9, text(ann, 13))\n",
    "    savefig(joinpath(img_dir, file_name))\n",
    "    current()\n",
    "end"
   ]
  },
  {
   "cell_type": "code",
   "execution_count": null,
   "metadata": {},
   "outputs": [],
   "source": [
    "plot_adjustable(sm, \"A_h_MILP.pdf\"; yticks = (0.9:0.3:2.1, [@sprintf(\"%4.1f\", y) for y in 0.9:0.3:2.1]), ann=\"(e)\")"
   ]
  },
  {
   "cell_type": "code",
   "execution_count": null,
   "metadata": {},
   "outputs": [],
   "source": [
    "plot_adjustable(sh, \"A_h.pdf\"; ann=\"(f)\")"
   ]
  },
  {
   "cell_type": "code",
   "execution_count": null,
   "metadata": {},
   "outputs": [],
   "source": [
    "function plot_exchange(s, file_name; yticks = :auto, ann = \"\")\n",
    "    ads = [l[\"id\"] for l in h[\"AD\"]]\n",
    "    plot(; size = fst, ylabel = \"Power (kW)\",\n",
    "        legend = :topleft, right_margin = -1mm, top_margin = -1.5mm, xticks, yticks, xlabel = L\"t\",\n",
    "        bottom_margin = 1.5mm, ylimits=[-1, 11])\n",
    "    plot!(1:24, s.Pb .- s.Ps; label = L\"P^{\\textrm{net}}\", markershape = :circle)\n",
    "    annotate!(23, 6, text(ann, 13))\n",
    "    savefig(joinpath(img_dir, file_name))\n",
    "    current()\n",
    "end"
   ]
  },
  {
   "cell_type": "code",
   "execution_count": null,
   "metadata": {},
   "outputs": [],
   "source": [
    "plot_exchange(sm, \"ex_h_MILP.pdf\"; ann = \"(g)\", yticks = (0:2:10, [@sprintf(\"%4d\", y) for y in 0:2:10]))"
   ]
  },
  {
   "cell_type": "code",
   "execution_count": null,
   "metadata": {},
   "outputs": [],
   "source": [
    "plot_exchange(sh, \"ex_h.pdf\"; ann=\"(h)\", yticks=(0:2:10, [@sprintf(\"%3d\", y) for y in 0:2:10]))"
   ]
  },
  {
   "cell_type": "code",
   "execution_count": null,
   "metadata": {},
   "outputs": [],
   "source": [
    "function assign_adjustable_power!(df_dst, df_src, h)\n",
    "    for l in h[\"AD\"]\n",
    "        id = l[\"id\"]\n",
    "        df_dst[:, \"P_$id\"] .= df_src[!, \"P_$id\"]\n",
    "    end\n",
    "    # update Pb and Ps based on power balance\n",
    "    Pcr = sum(l[\"P\"] for l in h[\"CR\"])\n",
    "    Pnet = fill(Pcr, nrow(df_dst))\n",
    "    for l in Iterators.Flatten((h[\"AD\"], h[\"SU\"], h[\"SI\"]))\n",
    "        Pnet .+= df_dst[!, \"P_$(l[\"id\"])\"]\n",
    "    end\n",
    "    Pnet .-= df_dst.PPV\n",
    "    df_dst.Pb = max.(Pnet, 0)\n",
    "    df_dst.Ps = -min.(Pnet, 0)\n",
    "end"
   ]
  },
  {
   "cell_type": "code",
   "execution_count": null,
   "metadata": {},
   "outputs": [],
   "source": [
    "# in `so`, shiftable loads are controlled by DNN, adjustable loads with the ideal MILP's values.\n",
    "so = copy(sh)\n",
    "assign_adjustable_power!(so, sm, h);"
   ]
  },
  {
   "cell_type": "code",
   "execution_count": null,
   "metadata": {},
   "outputs": [],
   "source": [
    "compute_cost!(so, h), compute_cost!(sh, h), compute_cost!(sm, h)"
   ]
  },
  {
   "cell_type": "code",
   "execution_count": null,
   "metadata": {},
   "outputs": [],
   "source": []
  }
 ],
 "metadata": {
  "kernelspec": {
   "display_name": "Julia 1.7.3",
   "language": "julia",
   "name": "julia-1.7"
  },
  "language_info": {
   "file_extension": ".jl",
   "mimetype": "application/julia",
   "name": "julia",
   "version": "1.7.3"
  },
  "orig_nbformat": 4
 },
 "nbformat": 4,
 "nbformat_minor": 2
}
